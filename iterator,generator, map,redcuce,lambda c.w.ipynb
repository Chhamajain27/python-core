{
 "cells": [
  {
   "cell_type": "code",
   "execution_count": 1,
   "id": "b37240f7",
   "metadata": {},
   "outputs": [],
   "source": [
    "#generators\n",
    "l=[20,30,50,70]\n",
    "def gen():\n",
    "    for i in l:\n",
    "        print(\"hello\")\n",
    "        yield i                        \n",
    "        print(\"after yield\")\n",
    "        "
   ]
  },
  {
   "cell_type": "code",
   "execution_count": 2,
   "id": "f4585f5b",
   "metadata": {},
   "outputs": [
    {
     "data": {
      "text/plain": [
       "<generator object gen at 0x000001206BC120B0>"
      ]
     },
     "execution_count": 2,
     "metadata": {},
     "output_type": "execute_result"
    }
   ],
   "source": [
    "k=gen()\n",
    "k"
   ]
  },
  {
   "cell_type": "code",
   "execution_count": 3,
   "id": "8fa4b32e",
   "metadata": {},
   "outputs": [
    {
     "data": {
      "text/plain": [
       "generator"
      ]
     },
     "execution_count": 3,
     "metadata": {},
     "output_type": "execute_result"
    }
   ],
   "source": [
    "type(k)"
   ]
  },
  {
   "cell_type": "code",
   "execution_count": 4,
   "id": "fa205cf6",
   "metadata": {},
   "outputs": [
    {
     "name": "stdout",
     "output_type": "stream",
     "text": [
      "hello\n"
     ]
    },
    {
     "data": {
      "text/plain": [
       "20"
      ]
     },
     "execution_count": 4,
     "metadata": {},
     "output_type": "execute_result"
    }
   ],
   "source": [
    "next(k)"
   ]
  },
  {
   "cell_type": "code",
   "execution_count": 5,
   "id": "7ff1df96",
   "metadata": {},
   "outputs": [
    {
     "name": "stdout",
     "output_type": "stream",
     "text": [
      "after yield\n",
      "hello\n"
     ]
    },
    {
     "data": {
      "text/plain": [
       "30"
      ]
     },
     "execution_count": 5,
     "metadata": {},
     "output_type": "execute_result"
    }
   ],
   "source": [
    "next(k)"
   ]
  },
  {
   "cell_type": "code",
   "execution_count": 6,
   "id": "1b2795bd",
   "metadata": {},
   "outputs": [
    {
     "name": "stdout",
     "output_type": "stream",
     "text": [
      "after yield\n",
      "hello\n"
     ]
    },
    {
     "data": {
      "text/plain": [
       "50"
      ]
     },
     "execution_count": 6,
     "metadata": {},
     "output_type": "execute_result"
    }
   ],
   "source": [
    "next(k)\n"
   ]
  },
  {
   "cell_type": "code",
   "execution_count": 7,
   "id": "40c5f46d",
   "metadata": {},
   "outputs": [
    {
     "name": "stdout",
     "output_type": "stream",
     "text": [
      "after yield\n",
      "hello\n"
     ]
    },
    {
     "data": {
      "text/plain": [
       "70"
      ]
     },
     "execution_count": 7,
     "metadata": {},
     "output_type": "execute_result"
    }
   ],
   "source": [
    "next(k)\n"
   ]
  },
  {
   "cell_type": "code",
   "execution_count": 9,
   "id": "fdc0d31e",
   "metadata": {},
   "outputs": [
    {
     "data": {
      "text/plain": [
       "11"
      ]
     },
     "execution_count": 9,
     "metadata": {},
     "output_type": "execute_result"
    }
   ],
   "source": [
    "#lambda\n",
    "def add(a,b):\n",
    "    c=a+b\n",
    "    a=5\n",
    "    b=6\n",
    "    return c\n",
    "add(5,6)"
   ]
  },
  {
   "cell_type": "markdown",
   "id": "64e6020e",
   "metadata": {},
   "source": []
  },
  {
   "cell_type": "code",
   "execution_count": 11,
   "id": "f4a605bd",
   "metadata": {},
   "outputs": [
    {
     "data": {
      "text/plain": [
       "<function __main__.<lambda>(a1, a2)>"
      ]
     },
     "execution_count": 11,
     "metadata": {},
     "output_type": "execute_result"
    }
   ],
   "source": [
    "lambda a1,a2:a1+a2"
   ]
  },
  {
   "cell_type": "code",
   "execution_count": 12,
   "id": "0f599adf",
   "metadata": {},
   "outputs": [
    {
     "data": {
      "text/plain": [
       "function"
      ]
     },
     "execution_count": 12,
     "metadata": {},
     "output_type": "execute_result"
    }
   ],
   "source": [
    "type(lambda a1,a2:a1+a2)"
   ]
  },
  {
   "cell_type": "code",
   "execution_count": 13,
   "id": "81d34af1",
   "metadata": {},
   "outputs": [
    {
     "data": {
      "text/plain": [
       "5"
      ]
     },
     "execution_count": 13,
     "metadata": {},
     "output_type": "execute_result"
    }
   ],
   "source": [
    "(lambda a1,a2:a1+a2)(2,3)"
   ]
  },
  {
   "cell_type": "code",
   "execution_count": 16,
   "id": "5bf2f60c",
   "metadata": {},
   "outputs": [
    {
     "name": "stdout",
     "output_type": "stream",
     "text": [
      "enter the first number3\n",
      "enter the second number5\n"
     ]
    },
    {
     "data": {
      "text/plain": [
       "8"
      ]
     },
     "execution_count": 16,
     "metadata": {},
     "output_type": "execute_result"
    }
   ],
   "source": [
    "(lambda a1,a2:a1+a2)(int(input(\"enter the first number\")),int(input(\"enter the second number\")))"
   ]
  },
  {
   "cell_type": "code",
   "execution_count": 17,
   "id": "aed6aa9d",
   "metadata": {},
   "outputs": [
    {
     "data": {
      "text/plain": [
       "<function __main__.<lambda>(a1, a2)>"
      ]
     },
     "execution_count": 17,
     "metadata": {},
     "output_type": "execute_result"
    }
   ],
   "source": [
    "k=(lambda a1,a2:a1+a2)\n",
    "k"
   ]
  },
  {
   "cell_type": "code",
   "execution_count": 18,
   "id": "723db083",
   "metadata": {},
   "outputs": [
    {
     "data": {
      "text/plain": [
       "5"
      ]
     },
     "execution_count": 18,
     "metadata": {},
     "output_type": "execute_result"
    }
   ],
   "source": [
    "k(2,3)"
   ]
  },
  {
   "cell_type": "code",
   "execution_count": 19,
   "id": "cc5a169b",
   "metadata": {},
   "outputs": [
    {
     "data": {
      "text/plain": [
       "121"
      ]
     },
     "execution_count": 19,
     "metadata": {},
     "output_type": "execute_result"
    }
   ],
   "source": [
    "k(43,78)"
   ]
  },
  {
   "cell_type": "code",
   "execution_count": 26,
   "id": "90b10235",
   "metadata": {},
   "outputs": [
    {
     "data": {
      "text/plain": [
       "'apple'"
      ]
     },
     "execution_count": 26,
     "metadata": {},
     "output_type": "execute_result"
    }
   ],
   "source": [
    "#waf to display all the fruits that start with a\n",
    "fruits= \"apple\"\n",
    "def fr():\n",
    "    for i in fruits:\n",
    "        if i.startswith(\"a\"):\n",
    "            return fruits\n",
    "        else:\n",
    "            return ''\n",
    "fr()"
   ]
  },
  {
   "cell_type": "code",
   "execution_count": 30,
   "id": "e9376215",
   "metadata": {},
   "outputs": [
    {
     "data": {
      "text/plain": [
       "'apple'"
      ]
     },
     "execution_count": 30,
     "metadata": {},
     "output_type": "execute_result"
    }
   ],
   "source": [
    "fruit=\"apple\"\n",
    "(lambda fruit :fruit if fruit.startswith(\"a\") else '')('apple')"
   ]
  },
  {
   "cell_type": "code",
   "execution_count": 31,
   "id": "b4306548",
   "metadata": {},
   "outputs": [
    {
     "name": "stdout",
     "output_type": "stream",
     "text": [
      "<function fruit at 0x000001206D6E2A60>\n"
     ]
    }
   ],
   "source": [
    "def fruit(x):\n",
    "    if x.startswith('a'):\n",
    "        print(fruit)\n",
    "fruit('apple')"
   ]
  },
  {
   "cell_type": "code",
   "execution_count": 34,
   "id": "fd5a28f6",
   "metadata": {},
   "outputs": [
    {
     "name": "stdout",
     "output_type": "stream",
     "text": [
      "enter the number68686\n",
      "string\n"
     ]
    }
   ],
   "source": [
    "#wap if given string is number or not using lambda\n",
    "s=input(\"enter the number\")\n",
    "r=(lambda x:'number' if type(x)==int else 'string')\n",
    "print(r(s))"
   ]
  },
  {
   "cell_type": "code",
   "execution_count": 35,
   "id": "07962c6a",
   "metadata": {},
   "outputs": [
    {
     "data": {
      "text/plain": [
       "dict_items([('one', 1), ('two', 2), ('three', 3)])"
      ]
     },
     "execution_count": 35,
     "metadata": {},
     "output_type": "execute_result"
    }
   ],
   "source": [
    "d={'one':1,'two':2,'three':3}\n",
    "d.items()"
   ]
  },
  {
   "cell_type": "code",
   "execution_count": 37,
   "id": "f3f4b304",
   "metadata": {},
   "outputs": [
    {
     "data": {
      "text/plain": [
       "[('two', 2), ('three', 3), ('one', 1)]"
      ]
     },
     "execution_count": 37,
     "metadata": {},
     "output_type": "execute_result"
    }
   ],
   "source": [
    "sorted(d.items(), reverse=True)"
   ]
  },
  {
   "cell_type": "code",
   "execution_count": 38,
   "id": "7c2062e9",
   "metadata": {},
   "outputs": [
    {
     "data": {
      "text/plain": [
       "[('one', 1), ('two', 2), ('three', 3)]"
      ]
     },
     "execution_count": 38,
     "metadata": {},
     "output_type": "execute_result"
    }
   ],
   "source": [
    "sorted(d.items(),key=lambda x:x[1])"
   ]
  },
  {
   "cell_type": "code",
   "execution_count": 39,
   "id": "d9cd4e42",
   "metadata": {},
   "outputs": [
    {
     "data": {
      "text/plain": [
       "[('three', 3), ('two', 2), ('one', 1)]"
      ]
     },
     "execution_count": 39,
     "metadata": {},
     "output_type": "execute_result"
    }
   ],
   "source": [
    "sorted(d.items(),key=lambda x:x[1],reverse=True)"
   ]
  },
  {
   "cell_type": "markdown",
   "id": "80d9aeea",
   "metadata": {},
   "source": [
    "# MAP"
   ]
  },
  {
   "cell_type": "code",
   "execution_count": 42,
   "id": "19687553",
   "metadata": {},
   "outputs": [
    {
     "name": "stdout",
     "output_type": "stream",
     "text": [
      "['apple', 'avocado']\n"
     ]
    }
   ],
   "source": [
    "# wap to fatch those fruits name that starts with a\n",
    "l=['apple','banana','cherry','avocado']\n",
    "l1=[]\n",
    "for i in l:\n",
    "    if i.startswith('a'):\n",
    "        l1.append(i)\n",
    "print(l1)"
   ]
  },
  {
   "cell_type": "code",
   "execution_count": 44,
   "id": "e182ef1f",
   "metadata": {},
   "outputs": [
    {
     "name": "stdout",
     "output_type": "stream",
     "text": [
      "['apple', 'avocado']\n"
     ]
    }
   ],
   "source": [
    "x=[i for i in l if i.startswith ('a')]\n",
    "print(l1)"
   ]
  },
  {
   "cell_type": "code",
   "execution_count": 45,
   "id": "9ff51fb0",
   "metadata": {},
   "outputs": [],
   "source": [
    "def fruit_check(fruit):\n",
    "    if fruit.startswith('a'):\n",
    "        return fruit\n",
    "    else:\n",
    "        return \"\"\n",
    "    "
   ]
  },
  {
   "cell_type": "code",
   "execution_count": 46,
   "id": "d4dbcbf8",
   "metadata": {},
   "outputs": [
    {
     "data": {
      "text/plain": [
       "<map at 0x1206bbe9d90>"
      ]
     },
     "execution_count": 46,
     "metadata": {},
     "output_type": "execute_result"
    }
   ],
   "source": [
    "map(fruit_check,l)"
   ]
  },
  {
   "cell_type": "code",
   "execution_count": 47,
   "id": "7789efb7",
   "metadata": {},
   "outputs": [
    {
     "data": {
      "text/plain": [
       "map"
      ]
     },
     "execution_count": 47,
     "metadata": {},
     "output_type": "execute_result"
    }
   ],
   "source": [
    "type(map(fruit_check,l))"
   ]
  },
  {
   "cell_type": "code",
   "execution_count": 48,
   "id": "fe1ce9f8",
   "metadata": {},
   "outputs": [
    {
     "data": {
      "text/plain": [
       "['apple', '', '', 'avocado']"
      ]
     },
     "execution_count": 48,
     "metadata": {},
     "output_type": "execute_result"
    }
   ],
   "source": [
    "list(map(fruit_check,l))"
   ]
  },
  {
   "cell_type": "code",
   "execution_count": 49,
   "id": "aca91aa0",
   "metadata": {},
   "outputs": [],
   "source": [
    "fruits=['apple','banana','cherry','avocado']"
   ]
  },
  {
   "cell_type": "code",
   "execution_count": 50,
   "id": "799dc504",
   "metadata": {},
   "outputs": [
    {
     "data": {
      "text/plain": [
       "['apple', '', '', 'avocado']"
      ]
     },
     "execution_count": 50,
     "metadata": {},
     "output_type": "execute_result"
    }
   ],
   "source": [
    "list(map(lambda fruit:fruit if fruit.startswith(\"a\") else \"\",fruits))"
   ]
  },
  {
   "cell_type": "code",
   "execution_count": 51,
   "id": "4cb0e6d6",
   "metadata": {},
   "outputs": [
    {
     "name": "stdout",
     "output_type": "stream",
     "text": [
      "<map object at 0x000001206CE73F10>\n"
     ]
    }
   ],
   "source": [
    "a=map(lambda fruit:fruit if fruit.startswith(\"a\") else \"\",fruits)\n",
    "print(a)"
   ]
  },
  {
   "cell_type": "code",
   "execution_count": 52,
   "id": "3c242cb1",
   "metadata": {},
   "outputs": [
    {
     "data": {
      "text/plain": [
       "'apple'"
      ]
     },
     "execution_count": 52,
     "metadata": {},
     "output_type": "execute_result"
    }
   ],
   "source": [
    "next(a)"
   ]
  },
  {
   "cell_type": "code",
   "execution_count": 54,
   "id": "f45ede67",
   "metadata": {},
   "outputs": [
    {
     "data": {
      "text/plain": [
       "''"
      ]
     },
     "execution_count": 54,
     "metadata": {},
     "output_type": "execute_result"
    }
   ],
   "source": [
    "next(a)"
   ]
  },
  {
   "cell_type": "code",
   "execution_count": null,
   "id": "32203fc2",
   "metadata": {},
   "outputs": [],
   "source": [
    "#cube of list using map"
   ]
  },
  {
   "cell_type": "code",
   "execution_count": 2,
   "id": "5b6ec8fa",
   "metadata": {},
   "outputs": [
    {
     "data": {
      "text/plain": [
       "[(12, 2), (3, 3), (4, 4)]"
      ]
     },
     "execution_count": 2,
     "metadata": {},
     "output_type": "execute_result"
    }
   ],
   "source": [
    "l1=[12,3,4]\n",
    "l2=[2,3,4]\n",
    "l=[14,6,8]\n",
    "k=list(zip(l1,l2))\n",
    "k"
   ]
  },
  {
   "cell_type": "code",
   "execution_count": 3,
   "id": "a26f1c65",
   "metadata": {},
   "outputs": [
    {
     "data": {
      "text/plain": [
       "[14, 6, 8]"
      ]
     },
     "execution_count": 3,
     "metadata": {},
     "output_type": "execute_result"
    }
   ],
   "source": [
    "l=[]\n",
    "for i in k:\n",
    "    s=i[0]+i[1]\n",
    "    l.append(s)\n",
    "l"
   ]
  },
  {
   "cell_type": "code",
   "execution_count": 4,
   "id": "5feac9e6",
   "metadata": {},
   "outputs": [
    {
     "data": {
      "text/plain": [
       "[14, 6, 8]"
      ]
     },
     "execution_count": 4,
     "metadata": {},
     "output_type": "execute_result"
    }
   ],
   "source": [
    "list(map(lambda x,y:x+y,l1,l2))"
   ]
  },
  {
   "cell_type": "code",
   "execution_count": 5,
   "id": "005ae1c3",
   "metadata": {},
   "outputs": [
    {
     "data": {
      "text/plain": [
       "[4, 64, 6]"
      ]
     },
     "execution_count": 5,
     "metadata": {},
     "output_type": "execute_result"
    }
   ],
   "source": [
    "base_list=[2,4,6]\n",
    "power_list=[2,3,1]\n",
    "list(map(lambda b,p:b**p, base_list,power_list))"
   ]
  },
  {
   "cell_type": "markdown",
   "id": "27218c66",
   "metadata": {},
   "source": [
    "# filter"
   ]
  },
  {
   "cell_type": "code",
   "execution_count": 9,
   "id": "cad8f41f",
   "metadata": {},
   "outputs": [
    {
     "ename": "TypeError",
     "evalue": "map() must have at least two arguments.",
     "output_type": "error",
     "traceback": [
      "\u001b[1;31m---------------------------------------------------------------------------\u001b[0m",
      "\u001b[1;31mTypeError\u001b[0m                                 Traceback (most recent call last)",
      "Input \u001b[1;32mIn [9]\u001b[0m, in \u001b[0;36m<cell line: 2>\u001b[1;34m()\u001b[0m\n\u001b[0;32m      1\u001b[0m fruits\u001b[38;5;241m=\u001b[39m[\u001b[38;5;124m'\u001b[39m\u001b[38;5;124mapple\u001b[39m\u001b[38;5;124m'\u001b[39m,\u001b[38;5;124m'\u001b[39m\u001b[38;5;124mavocado\u001b[39m\u001b[38;5;124m'\u001b[39m,\u001b[38;5;124m'\u001b[39m\u001b[38;5;124mcherry\u001b[39m\u001b[38;5;124m'\u001b[39m,\u001b[38;5;124m'\u001b[39m\u001b[38;5;124mbanana\u001b[39m\u001b[38;5;124m'\u001b[39m]\n\u001b[1;32m----> 2\u001b[0m \u001b[38;5;28mlist\u001b[39m(\u001b[38;5;28;43mmap\u001b[39;49m\u001b[43m(\u001b[49m\u001b[38;5;28;43;01mlambda\u001b[39;49;00m\u001b[43m \u001b[49m\u001b[43mfruit\u001b[49m\u001b[43m:\u001b[49m\u001b[43mfruit\u001b[49m\u001b[43m \u001b[49m\u001b[38;5;28;43;01mif\u001b[39;49;00m\u001b[43m \u001b[49m\u001b[43mfruits\u001b[49m\u001b[38;5;241;43m.\u001b[39;49m\u001b[43mstartswith\u001b[49m\u001b[43m(\u001b[49m\u001b[38;5;124;43m'\u001b[39;49m\u001b[38;5;124;43ma\u001b[39;49m\u001b[38;5;124;43m'\u001b[39;49m\u001b[43m)\u001b[49m\u001b[43m \u001b[49m\u001b[38;5;28;43;01melse\u001b[39;49;00m\u001b[43m \u001b[49m\u001b[38;5;124;43m'\u001b[39;49m\u001b[38;5;124;43m'\u001b[39;49m\u001b[43m)\u001b[49m)\n",
      "\u001b[1;31mTypeError\u001b[0m: map() must have at least two arguments."
     ]
    }
   ],
   "source": [
    "fruits=['apple','avocado','cherry','banana']\n",
    "list(map(lambda fruit:fruit if fruits.startswith('a') else ''))"
   ]
  },
  {
   "cell_type": "code",
   "execution_count": 12,
   "id": "a79885b8",
   "metadata": {},
   "outputs": [
    {
     "ename": "SyntaxError",
     "evalue": "invalid syntax (1176824767.py, line 2)",
     "output_type": "error",
     "traceback": [
      "\u001b[1;36m  Input \u001b[1;32mIn [12]\u001b[1;36m\u001b[0m\n\u001b[1;33m    list(filter(lambda fruit :fruit if fruit.startswith(\"a\"),fruits))\u001b[0m\n\u001b[1;37m                                                            ^\u001b[0m\n\u001b[1;31mSyntaxError\u001b[0m\u001b[1;31m:\u001b[0m invalid syntax\n"
     ]
    }
   ],
   "source": [
    "fruits=['apple','avocado','cherry','banana']\n",
    "list(filter(lambda fruit :fruit if fruit.startswith(\"a\"),fruits))"
   ]
  },
  {
   "cell_type": "code",
   "execution_count": 15,
   "id": "aeb47700",
   "metadata": {},
   "outputs": [
    {
     "data": {
      "text/plain": [
       "[2, 4, 6, 8]"
      ]
     },
     "execution_count": 15,
     "metadata": {},
     "output_type": "execute_result"
    }
   ],
   "source": [
    "l=[1,2,3,4]\n",
    "list(map(lambda x: x*2,l))"
   ]
  },
  {
   "cell_type": "code",
   "execution_count": 16,
   "id": "80eaa70d",
   "metadata": {},
   "outputs": [
    {
     "data": {
      "text/plain": [
       "[1, 2, 3, 4]"
      ]
     },
     "execution_count": 16,
     "metadata": {},
     "output_type": "execute_result"
    }
   ],
   "source": [
    "list(filter(lambda x: x*2,l))"
   ]
  },
  {
   "cell_type": "markdown",
   "id": "c5ab88b8",
   "metadata": {},
   "source": [
    "# REDUCE"
   ]
  },
  {
   "cell_type": "code",
   "execution_count": 18,
   "id": "083ac103",
   "metadata": {},
   "outputs": [
    {
     "data": {
      "text/plain": [
       "113"
      ]
     },
     "execution_count": 18,
     "metadata": {},
     "output_type": "execute_result"
    }
   ],
   "source": [
    "from functools import reduce\n",
    "l=[47,11,42,13]\n",
    "reduce(lambda x,y:x+y,l)"
   ]
  },
  {
   "cell_type": "code",
   "execution_count": 21,
   "id": "97b80617",
   "metadata": {},
   "outputs": [
    {
     "data": {
      "text/plain": [
       "47"
      ]
     },
     "execution_count": 21,
     "metadata": {},
     "output_type": "execute_result"
    }
   ],
   "source": [
    "reduce(lambda x,y: x if x>y else y,l)"
   ]
  },
  {
   "cell_type": "code",
   "execution_count": null,
   "id": "e7c6bbf2",
   "metadata": {},
   "outputs": [],
   "source": []
  }
 ],
 "metadata": {
  "kernelspec": {
   "display_name": "Python 3 (ipykernel)",
   "language": "python",
   "name": "python3"
  },
  "language_info": {
   "codemirror_mode": {
    "name": "ipython",
    "version": 3
   },
   "file_extension": ".py",
   "mimetype": "text/x-python",
   "name": "python",
   "nbconvert_exporter": "python",
   "pygments_lexer": "ipython3",
   "version": "3.9.12"
  }
 },
 "nbformat": 4,
 "nbformat_minor": 5
}
